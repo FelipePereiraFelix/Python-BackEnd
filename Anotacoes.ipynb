{
 "cells": [
  {
   "cell_type": "markdown",
   "metadata": {},
   "source": [
    "# Aula 1: Configuração do projeto e banco de dados.\n",
    "\n",
    "Primeiro passo: Criar uma pasta com nome init, e um arquivo com schema.sql\n",
    "\n",
    "Ferramentas necessárias: Dbeaver. \n",
    "\n",
    "**Obs**: Não fiz tantas anotações nesses porque são aplicações simples. E estão tudo na prática praticamente. Então na primeira aula criamos várias pastas. Mexemos com Python em vários casos. E basicamente estamos seguindo algumas estrutura de dados. Baixamos também o **Postman** para ver nosso server ativo. E em todas pastas novas que criamos seguimos a regra de por uma pasta **__init__.py**. \n",
    "\n",
    "### Conclusões gerais\n",
    "\n",
    "Aprendi bastante nessa aula. Novos conceitos de Python, por agora ainda segue bem simples e fácil. Houveram alguns erros, mas consegui me resolver e descobrir o que estava acontecendo. \n",
    "\n",
    "\n"
   ]
  }
 ],
 "metadata": {
  "language_info": {
   "name": "python"
  }
 },
 "nbformat": 4,
 "nbformat_minor": 2
}
