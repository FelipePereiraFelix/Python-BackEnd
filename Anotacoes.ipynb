{
 "cells": [
  {
   "cell_type": "markdown",
   "metadata": {},
   "source": [
    "# Aula 1: Configuração do projeto e banco de dados.\n",
    "\n",
    "Primeiro passo: Criar uma pasta com nome init, e um arquivo com schema.sql\n",
    "\n",
    "Ferramentas necessárias: Dbeaver. \n",
    "\n",
    "**Obs**: Não fiz tantas anotações nesses porque são aplicações simples. E estão tudo na prática praticamente. Então na primeira aula criamos várias pastas. Mexemos com Python em vários casos. E basicamente estamos seguindo algumas estrutura de dados. Baixamos também o **Postman** para ver nosso server ativo. E em todas pastas novas que criamos seguimos a regra de por uma pasta **__init__.py**. \n",
    "\n",
    "### Conclusões gerais\n",
    "\n",
    "Aprendi bastante nessa aula. Novos conceitos de Python, por agora ainda segue bem simples e fácil. Houveram alguns erros, mas consegui me resolver e descobrir o que estava acontecendo. \n",
    "\n",
    "\n"
   ]
  },
  {
   "cell_type": "markdown",
   "metadata": {},
   "source": [
    "# Aula 2: Inferfaces, controllers e validação de dados\n",
    "\n",
    "Mais uma aula que foi bem ná prática, por Python ser uma linguagem simples, acaba acontecendo de não haver tanta necessidade de inúmeras anotações. Eu aprendi bastante  também na segunda aula, mais aplicações e injeções dentro do banco de dados. Mais criações de pastas e arquivos, e mais ajutes para que as coisas funcionem corretamente.\n",
    "\n",
    "Nessa segunda aula nos aprofundamos em mexer mais com o Dbeaver e Postman. Alterações de dados, mais lógica e muitas mudanças. \n"
   ]
  },
  {
   "cell_type": "markdown",
   "metadata": {},
   "source": [
    "# Aula 3: Implementando novas funcionalidades\n",
    "\n",
    "Iremos nessa aula colocar regras de negócios mais complexas. \n",
    "\n",
    "\n",
    "\n"
   ]
  }
 ],
 "metadata": {
  "language_info": {
   "name": "python"
  }
 },
 "nbformat": 4,
 "nbformat_minor": 2
}
