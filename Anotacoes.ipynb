{
 "cells": [
  {
   "cell_type": "markdown",
   "metadata": {},
   "source": [
    "# Aula 1: Configuração do projeto e banco de dados.\n",
    "\n",
    "Primeiro passo: Criar uma pasta com nome init, e um arquivo com schema.sql\n",
    "\n",
    "Ferramentas necessárias: Dbeaver. \n",
    "\n",
    "\n"
   ]
  }
 ],
 "metadata": {
  "language_info": {
   "name": "python"
  }
 },
 "nbformat": 4,
 "nbformat_minor": 2
}
